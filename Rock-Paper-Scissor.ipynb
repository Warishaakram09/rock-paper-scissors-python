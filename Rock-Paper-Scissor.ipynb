{
  "nbformat": 4,
  "nbformat_minor": 0,
  "metadata": {
    "colab": {
      "provenance": []
    },
    "kernelspec": {
      "name": "python3",
      "display_name": "Python 3"
    },
    "language_info": {
      "name": "python"
    }
  },
  "cells": [
    {
      "cell_type": "code",
      "execution_count": 1,
      "metadata": {
        "colab": {
          "base_uri": "https://localhost:8080/"
        },
        "id": "2jrvH4JbtjWw",
        "outputId": "83b79474-c9f6-43f1-e157-780b2c905241"
      },
      "outputs": [
        {
          "output_type": "stream",
          "name": "stdout",
          "text": [
            "Welcome to Rock, Paper, Scissors!\n",
            "Enter 'rock', 'paper', or 'scissors': rock\n",
            "Computer chose: scissors\n",
            "You win!\n"
          ]
        }
      ],
      "source": [
        "import random\n",
        "\n",
        "# Function to get the computer's choice\n",
        "def get_computer_choice():\n",
        "    choices = [\"rock\", \"paper\", \"scissors\"]\n",
        "    return random.choice(choices)\n",
        "\n",
        "# Function to determine the winner\n",
        "def determine_winner(player_choice, computer_choice):\n",
        "    if player_choice == computer_choice:\n",
        "        return \"It's a tie!\"\n",
        "    elif (player_choice == \"rock\" and computer_choice == \"scissors\") or \\\n",
        "         (player_choice == \"scissors\" and computer_choice == \"paper\") or \\\n",
        "         (player_choice == \"paper\" and computer_choice == \"rock\"):\n",
        "        return \"You win!\"\n",
        "    else:\n",
        "        return \"Computer wins!\"\n",
        "\n",
        "# Main game function\n",
        "def play_game():\n",
        "    print(\"Welcome to Rock, Paper, Scissors!\")\n",
        "\n",
        "    # Get player's choice\n",
        "    player_choice = input(\"Enter 'rock', 'paper', or 'scissors': \").lower()\n",
        "\n",
        "    if player_choice not in [\"rock\", \"paper\", \"scissors\"]:\n",
        "        print(\"Invalid choice! Please choose rock, paper, or scissors.\")\n",
        "        return\n",
        "\n",
        "    # Get computer's choice\n",
        "    computer_choice = get_computer_choice()\n",
        "    print(f\"Computer chose: {computer_choice}\")\n",
        "\n",
        "    # Determine the winner\n",
        "    result = determine_winner(player_choice, computer_choice)\n",
        "    print(result)\n",
        "\n",
        "# Run the game\n",
        "play_game()\n"
      ]
    }
  ]
}